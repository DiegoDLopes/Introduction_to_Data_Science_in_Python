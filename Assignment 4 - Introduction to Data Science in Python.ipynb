{
 "cells": [
  {
   "cell_type": "markdown",
   "metadata": {},
   "source": [
    "# Importando"
   ]
  },
  {
   "cell_type": "code",
   "execution_count": 204,
   "metadata": {},
   "outputs": [],
   "source": [
    "import pandas as pd\n",
    "import numpy as np\n",
    "import scipy.stats as stats\n",
    "import re\n",
    "import matplotlib as mpl\n",
    "import matplotlib.pyplot as plt\n",
    "\n",
    "import warnings\n",
    "warnings.filterwarnings(\"ignore\")"
   ]
  },
  {
   "cell_type": "markdown",
   "metadata": {},
   "source": [
    "# Leitura dos arquivos de dados usando o Pandas"
   ]
  },
  {
   "cell_type": "code",
   "execution_count": 205,
   "metadata": {},
   "outputs": [],
   "source": [
    "mlb_df=pd.read_csv(\"assets/mlb.csv\")\n",
    "nhl_df=pd.read_csv(\"assets/nhl.csv\")\n",
    "nba_df=pd.read_csv(\"assets/nba.csv\")\n",
    "nfl_df=pd.read_csv(\"assets/nfl.csv\")\n",
    "cities=pd.read_html(\"assets/wikipedia_data.html\")[1]\n",
    "cities=cities.iloc[:-1,[0,3,5,6,7,8]]"
   ]
  },
  {
   "cell_type": "code",
   "execution_count": 193,
   "metadata": {},
   "outputs": [
    {
     "data": {
      "text/html": [
       "<div>\n",
       "<style scoped>\n",
       "    .dataframe tbody tr th:only-of-type {\n",
       "        vertical-align: middle;\n",
       "    }\n",
       "\n",
       "    .dataframe tbody tr th {\n",
       "        vertical-align: top;\n",
       "    }\n",
       "\n",
       "    .dataframe thead th {\n",
       "        text-align: right;\n",
       "    }\n",
       "</style>\n",
       "<table border=\"1\" class=\"dataframe\">\n",
       "  <thead>\n",
       "    <tr style=\"text-align: right;\">\n",
       "      <th></th>\n",
       "      <th>Metropolitan area</th>\n",
       "      <th>Population (2016 est.)[8]</th>\n",
       "      <th>NFL</th>\n",
       "      <th>MLB</th>\n",
       "      <th>NBA</th>\n",
       "      <th>NHL</th>\n",
       "    </tr>\n",
       "  </thead>\n",
       "  <tbody>\n",
       "    <tr>\n",
       "      <th>0</th>\n",
       "      <td>New York City</td>\n",
       "      <td>20153634</td>\n",
       "      <td>GiantsJets[note 1]</td>\n",
       "      <td>YankeesMets[note 2]</td>\n",
       "      <td>KnicksNets</td>\n",
       "      <td>RangersIslandersDevils[note 3]</td>\n",
       "    </tr>\n",
       "    <tr>\n",
       "      <th>1</th>\n",
       "      <td>Los Angeles</td>\n",
       "      <td>13310447</td>\n",
       "      <td>RamsChargers[note 4]</td>\n",
       "      <td>DodgersAngels</td>\n",
       "      <td>LakersClippers</td>\n",
       "      <td>KingsDucks</td>\n",
       "    </tr>\n",
       "    <tr>\n",
       "      <th>2</th>\n",
       "      <td>San Francisco Bay Area</td>\n",
       "      <td>6657982</td>\n",
       "      <td>49ersRaiders[note 6]</td>\n",
       "      <td>GiantsAthletics</td>\n",
       "      <td>Warriors</td>\n",
       "      <td>Sharks[note 7]</td>\n",
       "    </tr>\n",
       "    <tr>\n",
       "      <th>3</th>\n",
       "      <td>Chicago</td>\n",
       "      <td>9512999</td>\n",
       "      <td>Bears[note 8]</td>\n",
       "      <td>CubsWhite Sox</td>\n",
       "      <td>Bulls[note 9]</td>\n",
       "      <td>Blackhawks</td>\n",
       "    </tr>\n",
       "    <tr>\n",
       "      <th>4</th>\n",
       "      <td>Dallas–Fort Worth</td>\n",
       "      <td>7233323</td>\n",
       "      <td>Cowboys</td>\n",
       "      <td>Rangers</td>\n",
       "      <td>Mavericks</td>\n",
       "      <td>Stars</td>\n",
       "    </tr>\n",
       "  </tbody>\n",
       "</table>\n",
       "</div>"
      ],
      "text/plain": [
       "        Metropolitan area Population (2016 est.)[8]                   NFL  \\\n",
       "0           New York City                  20153634    GiantsJets[note 1]   \n",
       "1             Los Angeles                  13310447  RamsChargers[note 4]   \n",
       "2  San Francisco Bay Area                   6657982  49ersRaiders[note 6]   \n",
       "3                 Chicago                   9512999         Bears[note 8]   \n",
       "4       Dallas–Fort Worth                   7233323               Cowboys   \n",
       "\n",
       "                   MLB             NBA                             NHL  \n",
       "0  YankeesMets[note 2]      KnicksNets  RangersIslandersDevils[note 3]  \n",
       "1        DodgersAngels  LakersClippers                      KingsDucks  \n",
       "2      GiantsAthletics        Warriors                  Sharks[note 7]  \n",
       "3        CubsWhite Sox   Bulls[note 9]                      Blackhawks  \n",
       "4              Rangers       Mavericks                           Stars  "
      ]
     },
     "execution_count": 193,
     "metadata": {},
     "output_type": "execute_result"
    }
   ],
   "source": [
    "cities.head()"
   ]
  },
  {
   "cell_type": "code",
   "execution_count": 6,
   "metadata": {},
   "outputs": [
    {
     "data": {
      "text/html": [
       "<div>\n",
       "<style scoped>\n",
       "    .dataframe tbody tr th:only-of-type {\n",
       "        vertical-align: middle;\n",
       "    }\n",
       "\n",
       "    .dataframe tbody tr th {\n",
       "        vertical-align: top;\n",
       "    }\n",
       "\n",
       "    .dataframe thead th {\n",
       "        text-align: right;\n",
       "    }\n",
       "</style>\n",
       "<table border=\"1\" class=\"dataframe\">\n",
       "  <thead>\n",
       "    <tr style=\"text-align: right;\">\n",
       "      <th></th>\n",
       "      <th>team</th>\n",
       "      <th>GP</th>\n",
       "      <th>W</th>\n",
       "      <th>L</th>\n",
       "      <th>OL</th>\n",
       "      <th>PTS</th>\n",
       "      <th>PTS%</th>\n",
       "      <th>GF</th>\n",
       "      <th>GA</th>\n",
       "      <th>SRS</th>\n",
       "      <th>SOS</th>\n",
       "      <th>RPt%</th>\n",
       "      <th>ROW</th>\n",
       "      <th>year</th>\n",
       "      <th>League</th>\n",
       "    </tr>\n",
       "  </thead>\n",
       "  <tbody>\n",
       "    <tr>\n",
       "      <th>0</th>\n",
       "      <td>Atlantic Division</td>\n",
       "      <td>Atlantic Division</td>\n",
       "      <td>Atlantic Division</td>\n",
       "      <td>Atlantic Division</td>\n",
       "      <td>Atlantic Division</td>\n",
       "      <td>Atlantic Division</td>\n",
       "      <td>Atlantic Division</td>\n",
       "      <td>Atlantic Division</td>\n",
       "      <td>Atlantic Division</td>\n",
       "      <td>Atlantic Division</td>\n",
       "      <td>Atlantic Division</td>\n",
       "      <td>Atlantic Division</td>\n",
       "      <td>Atlantic Division</td>\n",
       "      <td>2018</td>\n",
       "      <td>NHL</td>\n",
       "    </tr>\n",
       "    <tr>\n",
       "      <th>1</th>\n",
       "      <td>Tampa Bay Lightning*</td>\n",
       "      <td>82</td>\n",
       "      <td>54</td>\n",
       "      <td>23</td>\n",
       "      <td>5</td>\n",
       "      <td>113</td>\n",
       "      <td>.689</td>\n",
       "      <td>296</td>\n",
       "      <td>236</td>\n",
       "      <td>0.66</td>\n",
       "      <td>-0.07</td>\n",
       "      <td>.634</td>\n",
       "      <td>48</td>\n",
       "      <td>2018</td>\n",
       "      <td>NHL</td>\n",
       "    </tr>\n",
       "    <tr>\n",
       "      <th>2</th>\n",
       "      <td>Boston Bruins*</td>\n",
       "      <td>82</td>\n",
       "      <td>50</td>\n",
       "      <td>20</td>\n",
       "      <td>12</td>\n",
       "      <td>112</td>\n",
       "      <td>.683</td>\n",
       "      <td>270</td>\n",
       "      <td>214</td>\n",
       "      <td>0.62</td>\n",
       "      <td>-0.07</td>\n",
       "      <td>.610</td>\n",
       "      <td>47</td>\n",
       "      <td>2018</td>\n",
       "      <td>NHL</td>\n",
       "    </tr>\n",
       "    <tr>\n",
       "      <th>3</th>\n",
       "      <td>Toronto Maple Leafs*</td>\n",
       "      <td>82</td>\n",
       "      <td>49</td>\n",
       "      <td>26</td>\n",
       "      <td>7</td>\n",
       "      <td>105</td>\n",
       "      <td>.640</td>\n",
       "      <td>277</td>\n",
       "      <td>232</td>\n",
       "      <td>0.49</td>\n",
       "      <td>-0.06</td>\n",
       "      <td>.567</td>\n",
       "      <td>42</td>\n",
       "      <td>2018</td>\n",
       "      <td>NHL</td>\n",
       "    </tr>\n",
       "    <tr>\n",
       "      <th>4</th>\n",
       "      <td>Florida Panthers</td>\n",
       "      <td>82</td>\n",
       "      <td>44</td>\n",
       "      <td>30</td>\n",
       "      <td>8</td>\n",
       "      <td>96</td>\n",
       "      <td>.585</td>\n",
       "      <td>248</td>\n",
       "      <td>246</td>\n",
       "      <td>-0.01</td>\n",
       "      <td>-0.04</td>\n",
       "      <td>.537</td>\n",
       "      <td>41</td>\n",
       "      <td>2018</td>\n",
       "      <td>NHL</td>\n",
       "    </tr>\n",
       "  </tbody>\n",
       "</table>\n",
       "</div>"
      ],
      "text/plain": [
       "                   team                 GP                  W  \\\n",
       "0     Atlantic Division  Atlantic Division  Atlantic Division   \n",
       "1  Tampa Bay Lightning*                 82                 54   \n",
       "2        Boston Bruins*                 82                 50   \n",
       "3  Toronto Maple Leafs*                 82                 49   \n",
       "4      Florida Panthers                 82                 44   \n",
       "\n",
       "                   L                 OL                PTS               PTS%  \\\n",
       "0  Atlantic Division  Atlantic Division  Atlantic Division  Atlantic Division   \n",
       "1                 23                  5                113               .689   \n",
       "2                 20                 12                112               .683   \n",
       "3                 26                  7                105               .640   \n",
       "4                 30                  8                 96               .585   \n",
       "\n",
       "                  GF                 GA                SRS                SOS  \\\n",
       "0  Atlantic Division  Atlantic Division  Atlantic Division  Atlantic Division   \n",
       "1                296                236               0.66              -0.07   \n",
       "2                270                214               0.62              -0.07   \n",
       "3                277                232               0.49              -0.06   \n",
       "4                248                246              -0.01              -0.04   \n",
       "\n",
       "                RPt%                ROW  year League  \n",
       "0  Atlantic Division  Atlantic Division  2018    NHL  \n",
       "1               .634                 48  2018    NHL  \n",
       "2               .610                 47  2018    NHL  \n",
       "3               .567                 42  2018    NHL  \n",
       "4               .537                 41  2018    NHL  "
      ]
     },
     "execution_count": 6,
     "metadata": {},
     "output_type": "execute_result"
    }
   ],
   "source": [
    "nhl_df.head()"
   ]
  },
  {
   "cell_type": "markdown",
   "metadata": {},
   "source": [
    "Podemos ver acima que os dados precisam de um tratamento prévio. Dentro de cada campeonato os nomes dos times \n",
    "não estão separados corretamente, apesar de cada nome sempre começar com uma letra maiúscula. \n",
    "Além disso vemos a presença de chaves com informações unúteis em várias entradas.\n",
    "Cada time deve ser conectado pelo seu nome com os dados presentes nos dados individuais de cada liga."
   ]
  },
  {
   "cell_type": "markdown",
   "metadata": {},
   "source": [
    "# Tratamento"
   ]
  },
  {
   "cell_type": "markdown",
   "metadata": {},
   "source": [
    "Vamos começar com os dados contidos em cities, já que essa base será usada em conjunto com todas as outras."
   ]
  },
  {
   "cell_type": "markdown",
   "metadata": {},
   "source": [
    "Começamos removendo os '*' que aparecem no final dos nomes de alguns times."
   ]
  },
  {
   "cell_type": "code",
   "execution_count": 206,
   "metadata": {},
   "outputs": [],
   "source": [
    "cities['NHL'] = cities['NHL'].str.replace(r\"\\[.*\\]\",\"\", regex=True) \n",
    "cities['NBA'] = cities['NBA'].str.replace(r\"\\[.*\\]\",\"\", regex=True) \n",
    "cities['MLB'] = cities['MLB'].str.replace(r\"\\[.*\\]\",\"\", regex=True) \n",
    "cities['NFL'] = cities['NFL'].str.replace(r\"\\[.*\\]\",\"\", regex=True) "
   ]
  },
  {
   "cell_type": "markdown",
   "metadata": {},
   "source": [
    "Em seguida separamos os nomes dos times em cada liga, usando as letras maiúsculas como um identificador.\n",
    "Ou seja, inserimos espaços antes de cada letra maiúscula."
   ]
  },
  {
   "cell_type": "code",
   "execution_count": 207,
   "metadata": {},
   "outputs": [],
   "source": [
    "# função que insere um espaço antes de cada letra maiúscula em uma string.\n",
    "def cap_space(text):\n",
    "    new_text = ' '\n",
    "    for i, letter in enumerate(text):\n",
    "        if i != 0 and letter.isupper():\n",
    "            new_text +=' '\n",
    "        new_text += letter\n",
    "    return new_text"
   ]
  },
  {
   "cell_type": "code",
   "execution_count": 208,
   "metadata": {},
   "outputs": [],
   "source": [
    "# NHL\n",
    "# Insere espaços entro os nomes dos times em cada entrada.\n",
    "for i in range(len(cities['NHL'])):\n",
    "    cities['NHL'][i] = cap_space(cities['NHL'][i])\n",
    "\n",
    "# Deleta espaços extras, antes e depois do nome e insere NaN's nas células sem nada ou com '—'.\n",
    "cities['NHL'] = cities['NHL'].str.strip().replace(['','—'],np.nan)\n",
    "\n",
    "#NBA\n",
    "for i in range(len(cities['NBA'])):\n",
    "    cities['NBA'][i] = cap_space(cities['NBA'][i])\n",
    "    \n",
    "cities['NBA'] = cities['NBA'].str.strip()\n",
    "cities['NBA'] = cities['NBA'].replace(['','—'],np.nan)\n",
    "\n",
    "#MLB\n",
    "for i in range(len(cities['MLB'])):\n",
    "    cities['MLB'][i] = cap_space(cities['MLB'][i])\n",
    "\n",
    "cities['MLB'] = cities['MLB'].str.strip()\n",
    "cities['MLB'] = cities['MLB'].replace(['','—'],np.nan)\n",
    "\n",
    "#NFL\n",
    "for i in range(len(cities['NFL'])):\n",
    "    cities['NFL'][i] = cap_space(cities['NFL'][i])\n",
    "\n",
    "cities['NFL'] = cities['NFL'].str.strip()\n",
    "cities['NFL'] = cities['NFL'].replace(['','—'],np.nan)"
   ]
  },
  {
   "cell_type": "markdown",
   "metadata": {},
   "source": [
    "Por fim vamos calcular as correlações entre a taxa de vitórias em relação às derrotas (W / (W + L)) e a população em cada região metropolitana."
   ]
  },
  {
   "cell_type": "code",
   "execution_count": 209,
   "metadata": {},
   "outputs": [],
   "source": [
    "def corr_nhl(cities, nhl_df):\n",
    "    \n",
    "    # seleciona apenas as linhas sem NaN na coluna NHL\n",
    "    cities = cities[cities['NHL'].notna()]\n",
    "    \n",
    "    # separa os nomes na coluna NHL colocando cada nome em uma coluna diferente.\n",
    "    # dessa forma podemos comparar nome a nome com o dataframe cities.\n",
    "    cities[['name1','name2','name3']] = cities['NHL'].str.split(expand=True)\n",
    "    \n",
    "    nhl_df = nhl_df[['team', 'W', 'L', 'year']]\n",
    "    \n",
    "    # retira os '*' do dataframe nhl_df\n",
    "    nhl_df['team'] = nhl_df['team'].str.replace(r'[\\*]','')\n",
    "    # separa os nomes nesse dataframe também\n",
    "    nhl_df[['name1','name2','name3']] = nhl_df['team'].str.split(expand=True)\n",
    "    #seleciona apenas o ano de 2018\n",
    "    nhl_df = nhl_df[nhl_df['year']>=2018]\n",
    "    \n",
    "    # loop que compara todas as combinações de nomes e usa o merge nos dois dataframes para cada combinação.\n",
    "    # depois todos os dataframes gerados são concatenados em um só.\n",
    "    names=['name1','name2','name3']\n",
    "    frames = []\n",
    "    for i in names:\n",
    "        for j in names:\n",
    "            temp_pd = pd.merge(nhl_df, cities[cities[i].notna()], how='inner', left_on=[j],right_on=[i])\n",
    "            frames.append(temp_pd)\n",
    "    merged_nhl = pd.concat(frames)\n",
    "    \n",
    "    # Na coluna 'team' aparecem alguns times duplicados que devem ser descartados.\n",
    "    merged_nhl = merged_nhl.drop_duplicates(subset=\"team\")\n",
    "    merged_nhl = merged_nhl[['team','NHL','Metropolitan area','Population (2016 est.)[8]','W','L','year']]\n",
    "    \n",
    "    #calcula a taxa vitória / derrota\n",
    "    merged_nhl['ratio_nhl'] = merged_nhl['W'].astype(float) / (merged_nhl['W'].astype(float) + merged_nhl['L'].astype(float))\n",
    "    \n",
    "    # na coluna 'Metropolitan area' aparecem diferentes times que são da mesma região. \n",
    "    # calcuamos a média da taxa vitória / derrota desses times para comparar com a região.\n",
    "    f = {'ratio_nhl': 'mean', 'Population (2016 est.)[8]': 'first'}\n",
    "    merged_nhl = merged_nhl.groupby('Metropolitan area',as_index=False).agg(f)\n",
    "    \n",
    "    population_by_region = [i for i in merged_nhl['Population (2016 est.)[8]'].astype(float)]\n",
    "    win_loss_by_region = [i for i in merged_nhl['ratio_nhl']]\n",
    "    \n",
    "    return population_by_region, win_loss_by_region, stats.pearsonr(population_by_region, win_loss_by_region)[0], merged_nhl"
   ]
  },
  {
   "cell_type": "code",
   "execution_count": 210,
   "metadata": {},
   "outputs": [],
   "source": [
    "def corr_nba(cities, nba_df):\n",
    "    cities = cities[cities['NBA'].notna()]\n",
    "    cities[['name1','name2']] = cities['NBA'].str.split(expand=True)\n",
    "    \n",
    "    nba_df = nba_df[['team', 'W', 'L', 'year']]\n",
    "    \n",
    "    nba_df['team'] = nba_df['team'].str.replace(r'[\\*]','')\n",
    "    nba_df['team'] = nba_df['team'].str.replace(r'\\(.*\\)','')\n",
    "    nba_df[['name1','name2','name3']] = nba_df['team'].str.split(expand=True)\n",
    "    nba_df = nba_df[nba_df['year']>=2018]\n",
    "    \n",
    "    names_cities=['name1','name2']\n",
    "    names_nba = ['name1','name2','name3']\n",
    "    \n",
    "    frames = []\n",
    "    for i in names_cities:\n",
    "        for j in names_nba:\n",
    "            temp_pd = pd.merge(nba_df, cities[cities[i].notna()], how='inner', left_on=[j],right_on=[i])\n",
    "            frames.append(temp_pd)\n",
    "    merged_nba = pd.concat(frames)\n",
    "    merged_nba = merged_nba.drop_duplicates(subset=\"team\")\n",
    "    merged_nba = merged_nba[['team','NBA','Metropolitan area','Population (2016 est.)[8]','W','L','year']]\n",
    "    merged_nba['ratio_nba'] = merged_nba['W'].astype(float) / (merged_nba['W'].astype(float) + merged_nba['L'].astype(float))\n",
    "    f = {'ratio_nba': 'mean', 'Population (2016 est.)[8]': 'first'}\n",
    "    merged_nba = merged_nba.groupby('Metropolitan area',as_index=False).agg(f)\n",
    "    \n",
    "    population_by_region = [i for i in merged_nba['Population (2016 est.)[8]'].astype(float)]\n",
    "    win_loss_by_region = [i for i in merged_nba['ratio_nba']]\n",
    "    \n",
    "    return population_by_region, win_loss_by_region, stats.pearsonr(population_by_region, win_loss_by_region)[0], merged_nba"
   ]
  },
  {
   "cell_type": "code",
   "execution_count": 211,
   "metadata": {},
   "outputs": [],
   "source": [
    "def corr_mlb(cities, mlb_df):\n",
    "    cities = cities[cities['MLB'].notna()]\n",
    "    cities[['name1','name2','name3']] = cities['MLB'].str.split(expand=True)\n",
    "    \n",
    "    mlb_df = mlb_df[['team', 'W', 'L', 'year']]\n",
    "    \n",
    "    mlb_df['team'] = mlb_df['team'].str.replace(r'[\\*]','')\n",
    "    mlb_df['team'] = mlb_df['team'].str.replace(r'\\(.*\\)','')\n",
    "    mlb_df[['name1','name2','name3','name4','name5']] = mlb_df['team'].str.split(expand=True)\n",
    "    mlb_df = mlb_df[mlb_df['year']>=2018]\n",
    "    \n",
    "    names_cities=['name1','name2','name3']\n",
    "    names_MLB = ['name1','name2','name3','name4','name5']\n",
    "    \n",
    "    frames = []\n",
    "    for i in names_cities:\n",
    "        for j in names_MLB:\n",
    "            temp_pd = pd.merge(mlb_df, cities[cities[i].notna()], how='inner', left_on=[j],right_on=[i])\n",
    "            frames.append(temp_pd)\n",
    "    merged_mlb = pd.concat(frames)\n",
    "    merged_mlb = merged_mlb.drop_duplicates(subset=\"team\")\n",
    "    merged_mlb = merged_mlb[['team','MLB','Metropolitan area','Population (2016 est.)[8]','W','L','year']]\n",
    "    merged_mlb['ratio_mlb'] = merged_mlb['W'].astype(float) / (merged_mlb['W'].astype(float) + merged_mlb['L'].astype(float))\n",
    "    f = {'ratio_mlb': 'mean', 'Population (2016 est.)[8]': 'first'}\n",
    "    merged_mlb = merged_mlb.groupby('Metropolitan area',as_index=False).agg(f)\n",
    "    \n",
    "    population_by_region = [i for i in merged_mlb['Population (2016 est.)[8]'].astype(float)]\n",
    "    win_loss_by_region = [i for i in merged_mlb['ratio_mlb']]\n",
    "    \n",
    "    return population_by_region, win_loss_by_region, stats.pearsonr(population_by_region, win_loss_by_region)[0], merged_mlb"
   ]
  },
  {
   "cell_type": "code",
   "execution_count": 212,
   "metadata": {},
   "outputs": [],
   "source": [
    "def corr_nfl(cities, nfl_df):\n",
    "    cities = cities[cities['NFL'].notna()]\n",
    "    cities[['name1','name2']] = cities['NFL'].str.split(expand=True)\n",
    "    \n",
    "    nfl_df = nfl_df[['team', 'W', 'L', 'year']]\n",
    "    \n",
    "    nfl_df['team'] = nfl_df['team'].str.replace(r'[\\*]','')\n",
    "    nfl_df['team'] = nfl_df['team'].str.replace(r'[\\+]','')\n",
    "    nfl_df['team'] = nfl_df['team'].str.replace(r'\\(.*\\)','')\n",
    "    nfl_df[['name1','name2','name3']] = nfl_df['team'].str.split(expand=True)\n",
    "    nfl_df = nfl_df[nfl_df['year']>=2018]\n",
    "    \n",
    "    names_cities=['name1','name2']\n",
    "    names_NFL = ['name1','name2','name3']\n",
    "    \n",
    "    frames = []\n",
    "    for i in names_cities:\n",
    "        for j in names_NFL:\n",
    "            temp_pd = pd.merge(nfl_df, cities[cities[i].notna()], how='inner', left_on=[j],right_on=[i])\n",
    "            frames.append(temp_pd)\n",
    "    merged_nfl = pd.concat(frames)\n",
    "    merged_nfl = merged_nfl.drop_duplicates(subset=\"team\")\n",
    "    merged_nfl = merged_nfl[['Metropolitan area','NFL','Population (2016 est.)[8]','W','L','year']]\n",
    "    merged_nfl['ratio_nfl'] = merged_nfl['W'].astype(float) / (merged_nfl['W'].astype(float) + merged_nfl['L'].astype(float))\n",
    "    f = {'ratio_nfl': 'mean', 'Population (2016 est.)[8]': 'first'}\n",
    "    merged_nfl = merged_nfl.groupby('Metropolitan area',as_index=False).agg(f)\n",
    "    \n",
    "    population_by_region = [i for i in merged_nfl['Population (2016 est.)[8]'].astype(float)]\n",
    "    win_loss_by_region = [i for i in merged_nfl['ratio_nfl']]\n",
    "    \n",
    "    return  population_by_region, win_loss_by_region, stats.pearsonr(population_by_region, win_loss_by_region)[0], merged_nfl"
   ]
  },
  {
   "cell_type": "markdown",
   "metadata": {},
   "source": [
    "# p-valor para a hipótese de que dois times de uma mesma região devem ter a mesma performance."
   ]
  },
  {
   "cell_type": "markdown",
   "metadata": {},
   "source": [
    "vamos começar juntando os datas frames das ligas."
   ]
  },
  {
   "cell_type": "code",
   "execution_count": 139,
   "metadata": {},
   "outputs": [],
   "source": [
    "_, _, _, merged_nfl = corr_nfl(cities, nfl_df)\n",
    "_, _, _, merged_nhl = corr_nhl(cities, nhl_df)\n",
    "_, _, _, merged_nba = corr_nba(cities, nba_df)\n",
    "_, _, _, merged_mlb = corr_mlb(cities, mlb_df)\n",
    "\n",
    "nfl_nhl = pd.merge(merged_nfl, merged_nhl, how='outer', on='Metropolitan area')\n",
    "mlb_nfl_nhl = pd.merge(nfl_nhl, merged_mlb, how='outer', on='Metropolitan area')\n",
    "total = pd.merge(mlb_nfl_nhl, merged_nba, how='outer', on='Metropolitan area')"
   ]
  },
  {
   "cell_type": "markdown",
   "metadata": {},
   "source": [
    "Agora vamos achar todos os pares de times (de ligas diferentes) que pertencem a uma mesma região."
   ]
  },
  {
   "cell_type": "code",
   "execution_count": 140,
   "metadata": {},
   "outputs": [],
   "source": [
    "ratios = ['ratio_nfl', 'ratio_nhl', 'ratio_mlb', 'ratio_nba']\n",
    "temp = []\n",
    "for i in range(len(total)):\n",
    "    for j in range(len(ratios)-1):\n",
    "        for k in range(j+1,len(ratios)):\n",
    "            if not np.isnan(total.iloc[i][ratios[j]]) and not np.isnan(total.iloc[i][ratios[k]]):\n",
    "                temp.append([ratios[j], ratios[k], total.iloc[i][ratios[j]], total.iloc[i][ratios[k]]])\n",
    "\n",
    "total_teams = pd.DataFrame(temp, columns=['team1', 'team2', 'ratio1', 'ratio2'])"
   ]
  },
  {
   "cell_type": "markdown",
   "metadata": {},
   "source": [
    "Por fim vamos criar um dataframe para esses pares e realizar um teste estatísticos para os diferentes tipos de pares."
   ]
  },
  {
   "cell_type": "code",
   "execution_count": 142,
   "metadata": {},
   "outputs": [
    {
     "data": {
      "text/html": [
       "<div>\n",
       "<style scoped>\n",
       "    .dataframe tbody tr th:only-of-type {\n",
       "        vertical-align: middle;\n",
       "    }\n",
       "\n",
       "    .dataframe tbody tr th {\n",
       "        vertical-align: top;\n",
       "    }\n",
       "\n",
       "    .dataframe thead th {\n",
       "        text-align: right;\n",
       "    }\n",
       "</style>\n",
       "<table border=\"1\" class=\"dataframe\">\n",
       "  <thead>\n",
       "    <tr style=\"text-align: right;\">\n",
       "      <th></th>\n",
       "      <th>NFL</th>\n",
       "      <th>NBA</th>\n",
       "      <th>NHL</th>\n",
       "      <th>MLB</th>\n",
       "    </tr>\n",
       "    <tr>\n",
       "      <th></th>\n",
       "      <th></th>\n",
       "      <th></th>\n",
       "      <th></th>\n",
       "      <th></th>\n",
       "    </tr>\n",
       "  </thead>\n",
       "  <tbody>\n",
       "    <tr>\n",
       "      <th>NFL</th>\n",
       "      <td>1.000000</td>\n",
       "      <td>0.941792</td>\n",
       "      <td>0.030883</td>\n",
       "      <td>0.802069</td>\n",
       "    </tr>\n",
       "    <tr>\n",
       "      <th>NBA</th>\n",
       "      <td>0.941792</td>\n",
       "      <td>1.000000</td>\n",
       "      <td>0.022297</td>\n",
       "      <td>0.950540</td>\n",
       "    </tr>\n",
       "    <tr>\n",
       "      <th>NHL</th>\n",
       "      <td>0.030883</td>\n",
       "      <td>0.022297</td>\n",
       "      <td>1.000000</td>\n",
       "      <td>0.000708</td>\n",
       "    </tr>\n",
       "    <tr>\n",
       "      <th>MLB</th>\n",
       "      <td>0.802069</td>\n",
       "      <td>0.950540</td>\n",
       "      <td>0.000708</td>\n",
       "      <td>1.000000</td>\n",
       "    </tr>\n",
       "  </tbody>\n",
       "</table>\n",
       "</div>"
      ],
      "text/plain": [
       "          NFL       NBA       NHL       MLB\n",
       "                                           \n",
       "NFL  1.000000  0.941792  0.030883  0.802069\n",
       "NBA  0.941792  1.000000  0.022297  0.950540\n",
       "NHL  0.030883  0.022297  1.000000  0.000708\n",
       "MLB  0.802069  0.950540  0.000708  1.000000"
      ]
     },
     "execution_count": 142,
     "metadata": {},
     "output_type": "execute_result"
    }
   ],
   "source": [
    "nfl_nhl = total_teams[(total_teams['team1'] == 'ratio_nfl') & (total_teams['team2'] == 'ratio_nhl')]\n",
    "nfl_mlb = total_teams[(total_teams['team1'] == 'ratio_nfl') & (total_teams['team2'] == 'ratio_mlb')]\n",
    "nfl_nba = total_teams[(total_teams['team1'] == 'ratio_nfl') & (total_teams['team2'] == 'ratio_nba')]\n",
    "nhl_mlb = total_teams[(total_teams['team1'] == 'ratio_nhl') & (total_teams['team2'] == 'ratio_mlb')]\n",
    "nhl_nba = total_teams[(total_teams['team1'] == 'ratio_nhl') & (total_teams['team2'] == 'ratio_nba')]\n",
    "mlb_nba = total_teams[(total_teams['team1'] == 'ratio_mlb') & (total_teams['team2'] == 'ratio_nba')]\n",
    "\n",
    "nfl = ['NFL', np.nan, stats.ttest_rel(nfl_nba['ratio1'],nfl_nba['ratio2'])[1], stats.ttest_rel(nfl_nhl['ratio1'],nfl_nhl['ratio2'])[1], stats.ttest_rel(nfl_mlb['ratio1'],nfl_mlb['ratio2'])[1]]\n",
    "nba = ['NBA', stats.ttest_rel(nfl_nba['ratio1'],nfl_nba['ratio2'])[1], np.nan, stats.ttest_rel(nhl_nba['ratio1'],nhl_nba['ratio2'])[1], stats.ttest_rel(mlb_nba['ratio1'],mlb_nba['ratio2'])[1]]\n",
    "nhl = ['NHL', stats.ttest_rel(nfl_nhl['ratio1'],nfl_nhl['ratio2'])[1], stats.ttest_rel(nhl_nba['ratio1'], nhl_nba['ratio2'])[1], np.nan, stats.ttest_rel(nhl_mlb['ratio1'],nhl_mlb['ratio2'])[1]]\n",
    "mlb = ['MLB', stats.ttest_rel(nfl_mlb['ratio1'],nfl_mlb['ratio2'])[1], stats.ttest_rel(mlb_nba['ratio1'], mlb_nba['ratio2'])[1], stats.ttest_rel(nhl_mlb['ratio1'],nhl_mlb['ratio2'])[1], np.nan]\n",
    "\n",
    "p_values = pd.DataFrame({'' : ['NFL', 'NBA', 'NHL', 'MLB'],\n",
    "            'NFL' : [1.0, stats.ttest_rel(nfl_nba['ratio1'],nfl_nba['ratio2'])[1], stats.ttest_rel(nfl_nhl['ratio1'],nfl_nhl['ratio2'])[1], stats.ttest_rel(nfl_mlb['ratio1'],nfl_mlb['ratio2'])[1]],\n",
    "            'NBA' : [stats.ttest_rel(nfl_nba['ratio1'],nfl_nba['ratio2'])[1], 1.0, stats.ttest_rel(nhl_nba['ratio1'],nhl_nba['ratio2'])[1], stats.ttest_rel(mlb_nba['ratio1'],mlb_nba['ratio2'])[1]],\n",
    "            'NHL' : [stats.ttest_rel(nfl_nhl['ratio1'],nfl_nhl['ratio2'])[1], stats.ttest_rel(nhl_nba['ratio1'], nhl_nba['ratio2'])[1], 1.0, stats.ttest_rel(nhl_mlb['ratio1'],nhl_mlb['ratio2'])[1]],\n",
    "            'MLB' : [stats.ttest_rel(nfl_mlb['ratio1'],nfl_mlb['ratio2'])[1], stats.ttest_rel(mlb_nba['ratio1'], mlb_nba['ratio2'])[1], stats.ttest_rel(nhl_mlb['ratio1'],nhl_mlb['ratio2'])[1], 1.0]})\n",
    "\n",
    "p_values = p_values.set_index('')\n",
    "p_values"
   ]
  },
  {
   "cell_type": "markdown",
   "metadata": {},
   "source": [
    "# Plotando os p-valores e as correlações"
   ]
  },
  {
   "cell_type": "code",
   "execution_count": 149,
   "metadata": {},
   "outputs": [],
   "source": [
    "names = list(p_values.index)"
   ]
  },
  {
   "cell_type": "code",
   "execution_count": 171,
   "metadata": {},
   "outputs": [],
   "source": [
    "pval=[]\n",
    "for i in names:\n",
    "    temp=[]\n",
    "    for j in names:\n",
    "        temp.append(np.round(p_values[i][j],4))\n",
    "    pval.append(temp)\n",
    "pval = np.array(pval)"
   ]
  },
  {
   "cell_type": "code",
   "execution_count": 167,
   "metadata": {},
   "outputs": [],
   "source": [
    "def heatmap(data, row_labels, col_labels, ax=None,\n",
    "            cbar_kw={}, cbarlabel=\"\", **kwargs):\n",
    "    \"\"\"\n",
    "    Create a heatmap from a numpy array and two lists of labels.\n",
    "\n",
    "    Parameters\n",
    "    ----------\n",
    "    data\n",
    "        A 2D numpy array of shape (M, N).\n",
    "    row_labels\n",
    "        A list or array of length M with the labels for the rows.\n",
    "    col_labels\n",
    "        A list or array of length N with the labels for the columns.\n",
    "    ax\n",
    "        A `matplotlib.axes.Axes` instance to which the heatmap is plotted.  If\n",
    "        not provided, use current axes or create a new one.  Optional.\n",
    "    cbar_kw\n",
    "        A dictionary with arguments to `matplotlib.Figure.colorbar`.  Optional.\n",
    "    cbarlabel\n",
    "        The label for the colorbar.  Optional.\n",
    "    **kwargs\n",
    "        All other arguments are forwarded to `imshow`.\n",
    "    \"\"\"\n",
    "\n",
    "    if not ax:\n",
    "        ax = plt.gca()\n",
    "\n",
    "    # Plot the heatmap\n",
    "    im = ax.imshow(data, **kwargs)\n",
    "\n",
    "    # Create colorbar\n",
    "    cbar = ax.figure.colorbar(im, ax=ax, **cbar_kw)\n",
    "    cbar.ax.set_ylabel(cbarlabel, rotation=-90, va=\"bottom\")\n",
    "\n",
    "    # Show all ticks and label them with the respective list entries.\n",
    "    ax.set_xticks(np.arange(data.shape[1]), labels=col_labels)\n",
    "    ax.set_yticks(np.arange(data.shape[0]), labels=row_labels)\n",
    "\n",
    "    # Let the horizontal axes labeling appear on top.\n",
    "    ax.tick_params(top=True, bottom=False,\n",
    "                   labeltop=True, labelbottom=False)\n",
    "\n",
    "    # Rotate the tick labels and set their alignment.\n",
    "    plt.setp(ax.get_xticklabels(), rotation=-30, ha=\"right\",\n",
    "             rotation_mode=\"anchor\")\n",
    "\n",
    "    # Turn spines off and create white grid.\n",
    "    ax.spines[:].set_visible(False)\n",
    "\n",
    "    ax.set_xticks(np.arange(data.shape[1]+1)-.5, minor=True)\n",
    "    ax.set_yticks(np.arange(data.shape[0]+1)-.5, minor=True)\n",
    "    ax.grid(which=\"minor\", color=\"w\", linestyle='-', linewidth=3)\n",
    "    ax.tick_params(which=\"minor\", bottom=False, left=False)\n",
    "\n",
    "    return im, cbar\n",
    "\n",
    "\n",
    "def annotate_heatmap(im, data=None, valfmt=\"{x:.2f}\",\n",
    "                     textcolors=(\"black\", \"white\"),\n",
    "                     threshold=None, **textkw):\n",
    "    \"\"\"\n",
    "    A function to annotate a heatmap.\n",
    "\n",
    "    Parameters\n",
    "    ----------\n",
    "    im\n",
    "        The AxesImage to be labeled.\n",
    "    data\n",
    "        Data used to annotate.  If None, the image's data is used.  Optional.\n",
    "    valfmt\n",
    "        The format of the annotations inside the heatmap.  This should either\n",
    "        use the string format method, e.g. \"$ {x:.2f}\", or be a\n",
    "        `matplotlib.ticker.Formatter`.  Optional.\n",
    "    textcolors\n",
    "        A pair of colors.  The first is used for values below a threshold,\n",
    "        the second for those above.  Optional.\n",
    "    threshold\n",
    "        Value in data units according to which the colors from textcolors are\n",
    "        applied.  If None (the default) uses the middle of the colormap as\n",
    "        separation.  Optional.\n",
    "    **kwargs\n",
    "        All other arguments are forwarded to each call to `text` used to create\n",
    "        the text labels.\n",
    "    \"\"\"\n",
    "\n",
    "    if not isinstance(data, (list, np.ndarray)):\n",
    "        data = im.get_array()\n",
    "\n",
    "    # Normalize the threshold to the images color range.\n",
    "    if threshold is not None:\n",
    "        threshold = im.norm(threshold)\n",
    "    else:\n",
    "        threshold = im.norm(data.max())/2.\n",
    "\n",
    "    # Set default alignment to center, but allow it to be\n",
    "    # overwritten by textkw.\n",
    "    kw = dict(horizontalalignment=\"center\",\n",
    "              verticalalignment=\"center\")\n",
    "    kw.update(textkw)\n",
    "\n",
    "    # Get the formatter in case a string is supplied\n",
    "    if isinstance(valfmt, str):\n",
    "        valfmt = matplotlib.ticker.StrMethodFormatter(valfmt)\n",
    "\n",
    "    # Loop over the data and create a `Text` for each \"pixel\".\n",
    "    # Change the text's color depending on the data.\n",
    "    texts = []\n",
    "    for i in range(data.shape[0]):\n",
    "        for j in range(data.shape[1]):\n",
    "            kw.update(color=textcolors[int(im.norm(data[i, j]) > threshold)])\n",
    "            text = im.axes.text(j, i, valfmt(data[i, j], None), **kw)\n",
    "            texts.append(text)\n",
    "\n",
    "    return texts"
   ]
  },
  {
   "cell_type": "code",
   "execution_count": 173,
   "metadata": {},
   "outputs": [
    {
     "data": {
      "image/png": "[encoded data removed]",
      "text/plain": [
       "<Figure size 432x432 with 2 Axes>"
      ]
     },
     "metadata": {
      "needs_background": "light"
     },
     "output_type": "display_data"
    }
   ],
   "source": [
    "fig, ax = plt.subplots(figsize=(6,6))\n",
    "\n",
    "im, cbar = heatmap(pval, names, names, ax=ax,\n",
    "                   cmap=\"YlGn\", cbarlabel=\"harvest [t/year]\")\n",
    "texts = annotate_heatmap(im, valfmt=\"{x:.4f}\")\n",
    "\n",
    "fig.tight_layout()\n",
    "plt.show()"
   ]
  },
  {
   "cell_type": "markdown",
   "metadata": {},
   "source": [
    "### Vemos aqui que, devido ao alto p-valor, na maioria dos casos não é possível descartar a hipótese nula, ou seja, regiões com times em diferentes ligas não significa que esses times terão performances parecidas."
   ]
  },
  {
   "cell_type": "code",
   "execution_count": 213,
   "metadata": {},
   "outputs": [],
   "source": [
    "pop_nfl, win_loss_nfl, corr_nfl, merged_nfl = corr_nfl(cities, nfl_df)\n",
    "pop_nba, win_loss_nba, corr_nba, merged_nba = corr_nba(cities, nba_df)\n",
    "pop_mlb, win_loss_mlb, corr_mlb, merged_mlb = corr_mlb(cities, mlb_df)\n",
    "pop_nhl, win_loss_nhl, corr_nhl, merged_nhl = corr_nhl(cities, nhl_df)"
   ]
  },
  {
   "cell_type": "code",
   "execution_count": 214,
   "metadata": {},
   "outputs": [
    {
     "data": {
      "text/plain": [
       "(0.004922112149349409,\n",
       " -0.17657160252844614,\n",
       " 0.15027698302669307,\n",
       " 0.012486162921209923)"
      ]
     },
     "execution_count": 214,
     "metadata": {},
     "output_type": "execute_result"
    }
   ],
   "source": [
    "(corr_nfl,\n",
    "corr_nba,\n",
    "corr_mlb,\n",
    "corr_nhl)"
   ]
  },
  {
   "cell_type": "code",
   "execution_count": 251,
   "metadata": {},
   "outputs": [
    {
     "data": {
      "text/plain": [
       "Text(12000000.0, 0.7, 'NHL, Corr = 0.012')"
      ]
     },
     "execution_count": 251,
     "metadata": {},
     "output_type": "execute_result"
    },
    {
     "data": {
      "image/png": "[encoded data removed]",
      "text/plain": [
       "<Figure size 864x576 with 4 Axes>"
      ]
     },
     "metadata": {
      "needs_background": "light"
     },
     "output_type": "display_data"
    }
   ],
   "source": [
    "fig, ax = plt.subplots(nrows=2, ncols=2,figsize=(12,8))\n",
    "\n",
    "ax[0][0].plot(pop_nfl,win_loss_nfl,'o',color='gray', markersize=12,markeredgecolor='k', alpha=0.5)\n",
    "ax[0][0].set_ylabel(r'Taxa Vitória / Derrota', fontsize=18)\n",
    "ax[0][0].yaxis.set_label_coords(-0.25, -0.1)\n",
    "ax[0][0].text(1.05e7, 0.5, 'NHL, Corr = 0.0049', style='italic',\n",
    "        bbox={'facecolor': 'gray', 'alpha': 0.3, 'pad': 10}, fontsize=12)\n",
    "\n",
    "ax[0][1].plot(pop_nba, win_loss_nba,'o',color='gray', markersize=12,markeredgecolor='k', alpha=0.5)\n",
    "ax[0][1].set_title(r'Year 2018',fontsize=18)\n",
    "ax[0][1].text(1.2e7, 0.72, 'NHL, Corr = -0.18', style='italic',\n",
    "        bbox={'facecolor': 'gray', 'alpha': 0.3, 'pad': 10}, fontsize=12)\n",
    "\n",
    "ax[1][0].plot(pop_mlb, win_loss_mlb,'o',color='gray', markersize=12,markeredgecolor='k', alpha=0.5)\n",
    "ax[1][0].text(1.2e7, 0.6, 'NHL, Corr = 0.15', style='italic',\n",
    "        bbox={'facecolor': 'gray', 'alpha': 0.3, 'pad': 10}, fontsize=12)\n",
    "\n",
    "ax[1][1].plot(pop_nhl, win_loss_nhl,'o',color='gray', markersize=12,markeredgecolor='k', alpha=0.5)\n",
    "ax[1][1].set_xlabel(r'População por região', fontsize=18)\n",
    "ax[1][1].xaxis.set_label_coords(-0.1, -0.3)\n",
    "ax[1][1].text(1.2e7, 0.7, 'NHL, Corr = 0.012', style='italic',\n",
    "        bbox={'facecolor': 'gray', 'alpha': 0.3, 'pad': 10}, fontsize=12)\n"
   ]
  },
  {
   "cell_type": "markdown",
   "metadata": {},
   "source": [
    "## Podemos ver pela figura acima que não existem grandes correlações entre a taxa de vitórias dos times nas ligas e a população das regiões dos times."
   ]
  },
  {
   "cell_type": "code",
   "execution_count": null,
   "metadata": {},
   "outputs": [],
   "source": []
  }
 ],
 "metadata": {
  "kernelspec": {
   "display_name": "mypython3",
   "language": "python",
   "name": "mypython3"
  },
  "language_info": {
   "codemirror_mode": {
    "name": "ipython",
    "version": 3
   },
   "file_extension": ".py",
   "mimetype": "text/x-python",
   "name": "python",
   "nbconvert_exporter": "python",
   "pygments_lexer": "ipython3",
   "version": "3.10.0"
  }
 },
 "nbformat": 4,
 "nbformat_minor": 2
}
